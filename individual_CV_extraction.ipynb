{
 "cells": [
  {
   "cell_type": "code",
   "execution_count": 1,
   "id": "c58533da-e91e-4d75-b773-e36445f10c28",
   "metadata": {},
   "outputs": [],
   "source": [
    "from skimage import io, color, filters\n",
    "import matplotlib.pyplot as plt\n",
    "\n",
    "from image_processing_tool.single_cv_extraction import x_axil_area, x_axil_OCR, y_axil_area, y_axil_OCR, remove_legend, standarization "
   ]
  },
  {
   "cell_type": "code",
   "execution_count": 3,
   "id": "e6e8f37b-9191-459a-9583-e61ad3bef724",
   "metadata": {},
   "outputs": [],
   "source": [
    "#Load raw image\n",
    "image_path = './raw_image_example/1.png'\n",
    "image = io.imread(image_path)"
   ]
  },
  {
   "cell_type": "code",
   "execution_count": 5,
   "id": "2f090add-1af3-43a1-9d56-eb876760f651",
   "metadata": {},
   "outputs": [],
   "source": [
    "#Set mask according to the color of target individual CV profile\n",
    "rgb_image = color.rgba2rgb(image)\n",
    "hsv_image = color.rgb2hsv(rgb_image)\n",
    "hue_channel = hsv_image[:, :, 0]\n",
    "sat_channel = hsv_image[:, :, 1]\n",
    "value_channel = hsv_image[:, :, 2]\n",
    "mask = (hue_channel > 0.15) & (hue_channel < 0.45)#green is the reaction mixture CV profile in the example raw image\n",
    "target_curve = image.copy()\n",
    "target_curve[~mask] = 0"
   ]
  },
  {
   "cell_type": "code",
   "execution_count": 7,
   "id": "8954c75e-5d08-4209-b5bc-9c0cff0555d1",
   "metadata": {},
   "outputs": [],
   "source": [
    "#Detect x and y axils location\n",
    "gray_image = color.rgb2gray(rgb_image)\n",
    "thresh = filters.threshold_otsu(gray_image)\n",
    "binary_image = gray_image > thresh\n",
    "\n",
    "x_axil_area, max_index_x = x_axil_area(binary_image, gray_image)\n",
    "x_axil_left_end, x_axil_right_end = x_axil_OCR(x_axil_area)\n",
    "\n",
    "y_axil_area, max_index_y = y_axil_area(binary_image, gray_image)\n",
    "y_axil_up_end, y_axil_down_end = y_axil_OCR(y_axil_area)"
   ]
  },
  {
   "cell_type": "code",
   "execution_count": 9,
   "id": "79c704ec-80da-4ad5-aabc-474e3b663691",
   "metadata": {},
   "outputs": [
    {
     "name": "stdout",
     "output_type": "stream",
     "text": [
      "Text: ~, Position: (x=271, y=3987, width=620, height=4001)\n",
      "Text: ~, Position: (x=270, y=3800, width=620, height=3818)\n",
      "Text: [, Position: (x=667, y=3728, width=693, height=3868)\n",
      "Text: C, Position: (x=707, y=3755, width=800, height=3869)\n",
      "Text: o, Position: (x=811, y=3755, width=887, height=3839)\n",
      "Text: ], Position: (x=897, y=3728, width=923, height=3868)\n",
      "Text: +, Position: (x=1024, y=3777, width=1054, height=3843)\n",
      "Text: N, Position: (x=1118, y=3758, width=1203, height=3867)\n",
      "Text: a, Position: (x=1221, y=3755, width=1291, height=3839)\n",
      "Text: O, Position: (x=1308, y=3755, width=1411, height=3869)\n",
      "Text: P, Position: (x=1386, y=3755, width=1464, height=3869)\n",
      "Text: i, Position: (x=1429, y=3759, width=1511, height=3867)\n",
      "Text: v, Position: (x=1529, y=3759, width=1622, height=3866)\n",
      "Text: —, Position: (x=273, y=3617, width=384, height=3628)\n",
      "Text: —, Position: (x=273, y=3617, width=617, height=3628)\n",
      "Text: —, Position: (x=498, y=3617, width=588, height=3628)\n",
      "Text: [, Position: (x=667, y=3536, width=698, height=3680)\n",
      "Text: C, Position: (x=707, y=3569, width=799, height=3681)\n",
      "Text: o, Position: (x=811, y=3569, width=887, height=3651)\n",
      "Text: ], Position: (x=893, y=3536, width=923, height=3680)\n",
      "Text: +, Position: (x=986, y=3591, width=1056, height=3657)\n",
      "Text: N, Position: (x=1119, y=3570, width=1203, height=3680)\n",
      "Text: a, Position: (x=1221, y=3569, width=1290, height=3651)\n",
      "Text: O, Position: (x=1308, y=3569, width=1411, height=3681)\n",
      "Text: P, Position: (x=1378, y=3569, width=1455, height=3681)\n",
      "Text: i, Position: (x=1429, y=3571, width=1511, height=3680)\n",
      "Text: v, Position: (x=1529, y=3571, width=1622, height=3680)\n",
      "Text: +, Position: (x=1680, y=3589, width=1750, height=3659)\n",
      "Text: 1, Position: (x=1812, y=3570, width=1860, height=3677)\n",
      "Text: a, Position: (x=1888, y=3569, width=1956, height=3650)\n",
      "Text: |, Position: (x=2014, y=3542, width=2016, height=3549)\n"
     ]
    }
   ],
   "source": [
    "#Remove legend\n",
    "cv_area = gray_image[:max_index_x-5,max_index_y+5:]\n",
    "cv_area_target = target_curve[:max_index_x-5,max_index_y+5:]\n",
    "cv_area_target = color.rgba2rgb(cv_area_target)\n",
    "cv_area_target = color.rgb2gray(cv_area_target)\n",
    "\n",
    "cv_area_target_wo_legend = remove_legend(cv_area, cv_area_target)"
   ]
  },
  {
   "cell_type": "code",
   "execution_count": 11,
   "id": "a2def9f1-5cae-4c8d-8fd5-761192912058",
   "metadata": {},
   "outputs": [
    {
     "data": {
      "image/png": "[encoded data removed]",
      "text/plain": [
       "<Figure size 640x480 with 1 Axes>"
      ]
     },
     "metadata": {},
     "output_type": "display_data"
    }
   ],
   "source": [
    "#Standardization\n",
    "extracted_cv = standarization(cv_area_target_wo_legend, x_axil_right_end, x_axil_left_end, \n",
    "                    y_axil_up_end, y_axil_down_end)\n",
    "plt.imshow(extracted_cv,cmap='gray')\n",
    "plt.show()"
   ]
  }
 ],
 "metadata": {
  "kernelspec": {
   "display_name": "Python 3 (ipykernel)",
   "language": "python",
   "name": "python3"
  },
  "language_info": {
   "codemirror_mode": {
    "name": "ipython",
    "version": 3
   },
   "file_extension": ".py",
   "mimetype": "text/x-python",
   "name": "python",
   "nbconvert_exporter": "python",
   "pygments_lexer": "ipython3",
   "version": "3.11.5"
  }
 },
 "nbformat": 4,
 "nbformat_minor": 5
}
