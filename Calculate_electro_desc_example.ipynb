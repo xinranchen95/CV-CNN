{
 "cells": [
  {
   "cell_type": "code",
   "execution_count": 1,
   "id": "09ebd26c-0edf-4c51-a791-de6e38844674",
   "metadata": {},
   "outputs": [],
   "source": [
    "import os\n",
    "from skimage import io\n",
    "import numpy as np\n",
    "import matplotlib.pyplot as plt"
   ]
  },
  {
   "cell_type": "code",
   "execution_count": 35,
   "id": "4d5a4e58-074e-4661-a7ca-065ddd4b6b73",
   "metadata": {},
   "outputs": [],
   "source": [
    "def voltage_to_x(V):\n",
    "    \n",
    "    x = (V - V_min) / (V_max - V_min) * (width - 1)\n",
    "    x_pixel = int(round(x))\n",
    "    \n",
    "    return x_pixel\n",
    "\n",
    "def y_to_current_density(y_pixel):\n",
    "    \n",
    "    i = i_max - (y_pixel / (height - 1)) * (i_max - i_min)\n",
    "    #unit is A/cm2\n",
    "    return i\n",
    "\n",
    "def get_currents_at_voltage(binary_img, V):\n",
    "    \n",
    "    x = voltage_to_x(V)\n",
    "    column = binary_img[:, x]\n",
    "    y_indices = np.where(column == 0)[0]\n",
    "    currents_denisty = [y_to_current_density(y) for y in y_indices]\n",
    "    \n",
    "    return currents_denisty\n",
    "\n",
    "def current_density_to_y(i):\n",
    "    \n",
    "    y = (i_max - i) / (i_max - i_min) * (height - 1)\n",
    "    y_pixel = int(round(y))\n",
    "    \n",
    "    return y_pixel\n",
    "\n",
    "def x_to_voltage(x_pixel):\n",
    "    \n",
    "    V = V_min + (x_pixel / (width - 1)) * (V_max - V_min)\n",
    "    return V\n",
    "\n",
    "def get_voltages_at_current(binary_img, i):\n",
    "    \n",
    "    y = current_density_to_y(i)\n",
    "    row = binary_img[y, :] \n",
    "    x_indices = np.where(row == 0)[0]\n",
    "    voltages = [x_to_voltage(x) for x in x_indices]\n",
    "\n",
    "    return voltages\n",
    "\n",
    "def get_k_b_from_two_points(binary_img, V_1, V_2):\n",
    "    \n",
    "    i_1 = get_currents_at_voltage(binary_img, V_1)\n",
    "    i_2 = get_currents_at_voltage(binary_img, V_2)\n",
    "    k = (i_2[0] - i_1[0]) / (V_2 - V_1)\n",
    "    b = i_1[0] - k * V_1\n",
    "    \n",
    "    return k, b\n",
    "\n",
    "def get_tafel_slope_from_two_points(binary_img, V_1, V_2):\n",
    "    \n",
    "    i_1 = get_currents_at_voltage(binary_img, V_1)\n",
    "    i_2 = get_currents_at_voltage(binary_img, V_2)\n",
    "    logi_1 = np.log10(abs(i_1[0]))\n",
    "    logi_2 = np.log10(abs(i_2[0]))\n",
    "    k_tafel = (V_2 - V_1) / (logi_2 - logi_1)\n",
    "    \n",
    "    return k_tafel"
   ]
  },
  {
   "cell_type": "code",
   "execution_count": 37,
   "id": "4804388f-4063-4326-b02c-29084ddf7d86",
   "metadata": {},
   "outputs": [
    {
     "name": "stdout",
     "output_type": "stream",
     "text": [
      "filename: 1\n"
     ]
    }
   ],
   "source": [
    "#Load image being convert\n",
    "image_path = '/Users/chenxinran/Desktop/CV-CNN/MultiviewImageDataset/cv-mixture/1.png'\n",
    "filename = os.path.splitext(os.path.basename(image_path))[0]\n",
    "print(\"filename:\", filename)\n",
    "image = io.imread(image_path)"
   ]
  },
  {
   "cell_type": "code",
   "execution_count": 39,
   "id": "3589c906-8803-4fed-8a2c-78ef834e95a1",
   "metadata": {},
   "outputs": [],
   "source": [
    "# Binarization\n",
    "img_array = np.array(image)\n",
    "binary_img = np.where(img_array <200 , 0, 255)"
   ]
  },
  {
   "cell_type": "code",
   "execution_count": 41,
   "id": "fc11f06b-c87a-47fa-9afd-dceb57943fb0",
   "metadata": {},
   "outputs": [],
   "source": [
    "# Load experimental details about the CV image being convert\n",
    "electrode_diameter = 0.3 # cm\n",
    "electrode_area_cv = 3.14*(electrode_diameter/2)**2 # cm2\n",
    "width = binary_img.shape[1]\n",
    "height = binary_img.shape[0]\n",
    "V_min = -2\n",
    "V_max = 2\n",
    "i_min=-500e-6/electrode_area_cv \n",
    "i_max=500e-6/electrode_area_cv \n",
    "constant_current = 8e-3 # A\n",
    "electrode_area_work = (1.0*1.5*2 + 1.5*0.6*2 + 1.0*0.6) # 10 mm × 15 mm × 6 mm"
   ]
  },
  {
   "cell_type": "code",
   "execution_count": 43,
   "id": "035699f6-5c5a-4b91-8e69-b24486c7e4f6",
   "metadata": {},
   "outputs": [
    {
     "data": {
      "image/png": "[encoded data removed]",
      "text/plain": [
       "<Figure size 640x480 with 1 Axes>"
      ]
     },
     "metadata": {},
     "output_type": "display_data"
    }
   ],
   "source": [
    "# Convert current density into log(|i|) to determine the tafel region\n",
    "I_list = []\n",
    "V_list = []\n",
    "for i in range(1000):\n",
    "    for j in range(1000):\n",
    "        if binary_img[i][j] == 0:\n",
    "            cur  = y_to_current_density(i)\n",
    "            cur_log =  np.log10(abs(cur))\n",
    "            I_list.append(cur_log)\n",
    "            volt = x_to_voltage(j)\n",
    "            V_list.append(volt)\n",
    "            \n",
    "plt.scatter(V_list, I_list, s=5, alpha=0.5, color = 'black')\n",
    "plt.xlabel('Voltage (V)')\n",
    "plt.ylabel('log10 Current Density')\n",
    "plt.show()"
   ]
  },
  {
   "cell_type": "code",
   "execution_count": 45,
   "id": "cdfd9c0d-ec14-4970-80c2-4ac55fb40a57",
   "metadata": {},
   "outputs": [
    {
     "name": "stdout",
     "output_type": "stream",
     "text": [
      "E onset: 1.0622222222222233, E effective: 1.4514514514514514, Tafel slope: 0.3685150676181615\n"
     ]
    }
   ],
   "source": [
    "# calculate three electro-descriptors\n",
    "V_onset1 = 0.2 # observed from the CV, choose onset region\n",
    "V_onset2 = 0.4 # observed from the CV, choose onset region\n",
    "k_onset_line, b_onset_line = get_k_b_from_two_points(binary_img, V_onset1, V_onset2)\n",
    "\n",
    "V_tafel1 = 1.1 # observed from the CV, choose tafel slope region\n",
    "V_tafel2 = 1.2 # observed from the CV, choose tafel slope region\n",
    "k_tafel_log = get_tafel_slope_from_two_points(binary_img, V_tafel1, V_tafel2)  # unit V/dec\n",
    "\n",
    "k_tafel_line, b_tafel_line = get_k_b_from_two_points(binary_img, V_tafel1, V_tafel2)\n",
    "V_onset = (b_onset_line - b_tafel_line) / (k_tafel_line - k_onset_line) # intersection of the two lines\n",
    "\n",
    "I_eff_cv = constant_current * electrode_area_cv / electrode_area_work\n",
    "i_eff_cv = I_eff_cv / electrode_area_cv\n",
    "V_eff_cv = get_voltages_at_current(binary_img, i_eff_cv)\n",
    "\n",
    "print(\"E onset: {}, E effective: {}, Tafel slope: {}\".format(V_onset, V_eff_cv[0], k_tafel_log))"
   ]
  }
 ],
 "metadata": {
  "kernelspec": {
   "display_name": "Python 3 (ipykernel)",
   "language": "python",
   "name": "python3"
  },
  "language_info": {
   "codemirror_mode": {
    "name": "ipython",
    "version": 3
   },
   "file_extension": ".py",
   "mimetype": "text/x-python",
   "name": "python",
   "nbconvert_exporter": "python",
   "pygments_lexer": "ipython3",
   "version": "3.11.5"
  }
 },
 "nbformat": 4,
 "nbformat_minor": 5
}
