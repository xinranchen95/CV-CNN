{
 "cells": [
  {
   "cell_type": "code",
   "execution_count": 1,
   "id": "a6786a7f-6ef0-4188-9fe8-682b3908a633",
   "metadata": {},
   "outputs": [],
   "source": [
    "import os\n",
    "import pandas as pd\n",
    "from skimage import transform\n",
    "from PIL import Image\n",
    "import torch\n",
    "import torch.nn as nn\n",
    "import torch.optim as optim\n",
    "import numpy as np\n",
    "from torch.utils.data import DataLoader\n",
    "from sklearn.model_selection import KFold\n",
    "import matplotlib.pyplot as plt\n",
    "from skimage import color\n",
    "import time\n",
    "from sklearn.metrics import mean_absolute_error\n",
    "from scipy.stats import pearsonr\n",
    "\n",
    "from CV_CNN_regressor.CV_CNN_regressor import ImageDataset, CNNRegressorCV, evaluate, get_feature"
   ]
  },
  {
   "cell_type": "code",
   "execution_count": 3,
   "id": "1a1e763e-e43a-4f15-b0db-411e2b41acb5",
   "metadata": {},
   "outputs": [],
   "source": [
    "# Load data\n",
    "image_tensors = []\n",
    "number = []\n",
    "image_folder = './CobaltImageDataset/cv_mixture_Co'  \n",
    "for filename in os.listdir(image_folder):\n",
    "    if filename.endswith('.png'):\n",
    "        num = filename.split('.')[0]\n",
    "        num = int(num)\n",
    "        number.append(num)\n",
    "        img = Image.open(os.path.join(image_folder, filename))\n",
    "        img_array = np.array(img)\n",
    "        \n",
    "        if img_array.ndim == 3:\n",
    "            if img_array.shape[2] == 4:\n",
    "                rgb_img = color.rgba2rgb(img_array)\n",
    "                gray_img = color.rgb2gray(rgb_img)\n",
    "            elif img_array.shape[2] == 3:\n",
    "                gray_img = color.rgb2gray(img_array)\n",
    "            else:\n",
    "                raise ValueError(f\"Unsupported channel shape: {img_array.shape}\")\n",
    "        elif img_array.ndim == 2:\n",
    "            gray_img = img_array  \n",
    "        else:\n",
    "            raise ValueError(f\"Unsupported image shape: {img_array.shape}\")\n",
    "            \n",
    "        new_size = (300, 300)\n",
    "        resized_img = transform.resize(gray_img, new_size)\n",
    "        img_tensor = torch.tensor(resized_img)\n",
    "        img_tensor = torch.tensor(resized_img, dtype=torch.float32).unsqueeze(0)\n",
    "        image_tensors.append(img_tensor)\n",
    "\n",
    "df = pd.read_csv('./CobaltImageDataset/data_Co.csv')\n",
    "target = df['yield'].to_list()\n",
    "target = np.array(target)\n",
    "\n",
    "num_csv = df['number_in_file'].to_list()\n",
    "num_csv = np.array(num_csv)\n",
    "\n",
    "target_dict = {}\n",
    "for idx, y in zip(num_csv, target):\n",
    "    target_dict[idx] = y\n",
    "\n",
    "target_train = []\n",
    "for i in number:\n",
    "    y = target_dict[i]\n",
    "    target_train.append(y)    \n",
    "target_train = np.array(target_train)\n",
    "\n",
    "dataset_f = ImageDataset(image_tensors, number, target_train)\n",
    "data_loader_f = DataLoader(dataset_f, batch_size=10, shuffle=True)"
   ]
  },
  {
   "cell_type": "code",
   "execution_count": 7,
   "id": "5073ede8-61b0-4e5c-826c-d84ea50ab609",
   "metadata": {},
   "outputs": [
    {
     "name": "stdout",
     "output_type": "stream",
     "text": [
      "Fold 01, Loss 0.2221, training time: 1.4192 minutes\n",
      "Fold 02, Loss 0.0032, training time: 1.3398 minutes\n",
      "Fold 03, Loss 0.0004, training time: 1.3294 minutes\n",
      "Fold 04, Loss 0.0000, training time: 1.2771 minutes\n",
      "Fold 05, Loss 0.0031, training time: 1.2870 minutes\n",
      "Fold 06, Loss 0.0004, training time: 1.7160 minutes\n",
      "Fold 07, Loss 0.0022, training time: 1.3076 minutes\n",
      "Fold 08, Loss 0.0001, training time: 1.3540 minutes\n",
      "Fold 09, Loss 0.0000, training time: 1.4112 minutes\n",
      "Fold 10, Loss 0.0003, training time: 1.3277 minutes\n",
      "Pearson R 0.8911, MAE 0.0574, Loss 0.0232\n"
     ]
    }
   ],
   "source": [
    "# Model training\n",
    "model = CNNRegressorCV()\n",
    "criterion_r = nn.MSELoss()\n",
    "optimizer_r = optim.Adam(model.parameters(),lr=0.001)\n",
    "kf = KFold(n_splits=10, shuffle=True, random_state=0)\n",
    "\n",
    "all_acc_list = []\n",
    "all_loss_list = []\n",
    "label_list = []\n",
    "attention_list = []\n",
    "attention2_list = []\n",
    "atten_num_list = []\n",
    "predict_list = []\n",
    "val_indices_all = []\n",
    "eval_num_list = []\n",
    "fold_num = 1\n",
    "for train_indices, val_indices in kf.split(dataset_f):\n",
    "    \n",
    "    t_ini = time.time()    \n",
    "    train_dataset = [dataset_f[i] for i in train_indices]\n",
    "    val_dataset = [dataset_f[i] for i in val_indices]\n",
    "    val_indices_all.append(val_indices)\n",
    "\n",
    "    train_loader = DataLoader(train_dataset, batch_size=1, shuffle=True) \n",
    "    val_loader = DataLoader(val_dataset, batch_size=1, shuffle=True)\n",
    "    \n",
    "    num_val_list = []\n",
    "    acc_val_list= []\n",
    "    loss_list = []\n",
    "    for epoch in range(50):\n",
    "        model.train()\n",
    "        for image, num, label in train_loader:\n",
    "            optimizer_r.zero_grad()\n",
    "            output, _, _ = model(image)\n",
    "            output = output.to(torch.float64)\n",
    "            #label = label.view(-1)\n",
    "            output = output.squeeze(1)\n",
    "            loss = criterion_r(output, label)\n",
    "            loss.backward()\n",
    "            optimizer_r.step()\n",
    "        label_val, prediction_val, num_val = evaluate(model, val_loader)\n",
    "        attention_val, atten_num_val, attention2_val = get_feature(model, val_loader)\n",
    "        loss = loss.detach()\n",
    "        loss_list.append(loss)\n",
    "        if epoch == 49:\n",
    "            label_list.extend(label_val)\n",
    "            predict_list.extend(prediction_val)\n",
    "            attention_list.append(attention_val)\n",
    "            attention2_list.append(attention2_val)\n",
    "            atten_num_list.extend(atten_num_val)\n",
    "            eval_num_list.extend(num_val)\n",
    "    \n",
    "    all_loss_list.append(loss_list[-1])\n",
    "    t_fold = time.time()\n",
    "    t = t_fold - t_ini\n",
    "    t_min = t/60\n",
    "    print(\n",
    "        \"Fold {:02d}, Loss {:.4f}, training time: {:.4f} minutes\".format(\n",
    "        fold_num, loss_list[-1], t_min)\n",
    "        )\n",
    "    fold_num += 1\n",
    "    \n",
    "label_np = np.array(label_list).astype(float)\n",
    "predict_np = np.array(predict_list).astype(float)\n",
    "pearson_r, _ = pearsonr(label_np, predict_np.squeeze())\n",
    "mae = mean_absolute_error(label_list, predict_list)\n",
    "average_loss = np.mean(all_loss_list)\n",
    "print(\"Pearson R {:.4f}, MAE {:.4f}, Loss {:.4f}\".format(pearson_r, mae, average_loss))"
   ]
  },
  {
   "cell_type": "code",
   "execution_count": 11,
   "id": "ea012677-1c5b-42a9-87e4-ba5c91a41f39",
   "metadata": {},
   "outputs": [
    {
     "data": {
      "image/png": "[encoded data removed]",
      "text/plain": [
       "<Figure size 400x400 with 1 Axes>"
      ]
     },
     "metadata": {},
     "output_type": "display_data"
    }
   ],
   "source": [
    "# Plot regression result\n",
    "plt.figure(figsize=(4, 4), dpi=100)\n",
    "plt.scatter(predict_list, label_list, color='royalblue', alpha=0.4, s=60)\n",
    "predict_array = np.array(predict_list).flatten()\n",
    "label_array = np.array(label_list)\n",
    "coefficients = np.polyfit(predict_array, label_array, 1)\n",
    "polynomial = np.poly1d(coefficients)\n",
    "x_fit = np.linspace(min(predict_list), max(predict_list), 100)\n",
    "y_fit = polynomial(x_fit)\n",
    "\n",
    "plt.plot(x_fit, y_fit, color='royalblue', alpha=0.8)\n",
    "plt.xlabel('Predicted yield')\n",
    "plt.ylabel('Experimental yield')\n",
    "plt.ylim(0,1)\n",
    "plt.xlim(0,1)\n",
    "plt.show()"
   ]
  },
  {
   "cell_type": "code",
   "execution_count": 53,
   "id": "50c9db90-79dd-4252-ada2-961bc2a047ee",
   "metadata": {},
   "outputs": [
    {
     "name": "stdout",
     "output_type": "stream",
     "text": [
      "[87]\n"
     ]
    },
    {
     "data": {
      "image/png": "[encoded data removed]",
      "text/plain": [
       "<Figure size 640x480 with 1 Axes>"
      ]
     },
     "metadata": {},
     "output_type": "display_data"
    }
   ],
   "source": [
    "# Draw feature map of image number 1\n",
    "attention2_stack_tensor = torch.stack([t for group in attention2_list for t in group])\n",
    "arr = np.array(atten_num_list)\n",
    "indices = np.where(arr == 1)[0]\n",
    "print(indices)\n",
    "array = attention2_stack_tensor[indices][0]\n",
    "plt.imshow((array), cmap='gray')\n",
    "plt.axis('off')\n",
    "plt.show()"
   ]
  }
 ],
 "metadata": {
  "kernelspec": {
   "display_name": "Python 3 (ipykernel)",
   "language": "python",
   "name": "python3"
  },
  "language_info": {
   "codemirror_mode": {
    "name": "ipython",
    "version": 3
   },
   "file_extension": ".py",
   "mimetype": "text/x-python",
   "name": "python",
   "nbconvert_exporter": "python",
   "pygments_lexer": "ipython3",
   "version": "3.11.5"
  }
 },
 "nbformat": 4,
 "nbformat_minor": 5
}
